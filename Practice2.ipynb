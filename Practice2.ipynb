{
 "cells": [
  {
   "cell_type": "code",
   "execution_count": 23,
   "metadata": {
    "tags": []
   },
   "outputs": [
    {
     "output_type": "stream",
     "name": "stdout",
     "text": "a不能为0\n此一元二次方程无解\nroot1=-1.000000,root=-1.000000\nroot1=-0.381966,root=-2.618034\nroot1=-0.529858,root=-0.898713\nroot1=-1.000000,root=3.000000\n请输入正确的方程系数\n请输入正确的方程系数\n"
    }
   ],
   "source": [
    "\"\"\"\n",
    "求解一元二次方程\n",
    "\"\"\"\n",
    "import math\n",
    "def root_equation(a,b,c):\n",
    "    if isinstance(a,(int,float)) and isinstance(b,(int,float)) and isinstance(c,(int,float)):\n",
    "        if a ==0:\n",
    "            print(\"a不能为0\")\n",
    "        elif b*b - 4*a*c >= 0:\n",
    "            root1 = (-b + math.sqrt(b*b - 4*a*c))/(2.0*a)\n",
    "            root2 = (-b - math.sqrt(b*b - 4*a*c))/(2.0*a)\n",
    "            print(\"root1=%f,root=%f\"%(root1,root2))\n",
    "        else:\n",
    "            print(\"此一元二次方程无解\")\n",
    "    else:\n",
    "        print(\"请输入正确的方程系数\")\n",
    "\n",
    "root_equation(0,1,2)\n",
    "root_equation(3,1,2)\n",
    "root_equation(1,2,1)\n",
    "root_equation(1,3,1)\n",
    "root_equation(2.1,3,1)\n",
    "root_equation(-1,2,3)\n",
    "root_equation('s',3,1)\n",
    "root_equation(1,[2,3],1)"
   ]
  },
  {
   "cell_type": "code",
   "execution_count": 29,
   "metadata": {
    "tags": []
   },
   "outputs": [
    {
     "output_type": "stream",
     "name": "stdout",
     "text": "The average score is 86.000000\npb 100\nab 100\ncb 90\ned 70\ndd 70\npb 100\nab 100\ned 70\ndd 70\n"
    }
   ],
   "source": [
    "\"\"\"\n",
    "统计考试成绩参数类型为字典\n",
    "\"\"\"\n",
    "def statistics_score(score_dict):\n",
    "    if type(score_dict) == type({'name':'pb'}):\n",
    "        name_list = list(score_dict.keys())\n",
    "        score_list = list(score_dict.values())\n",
    "        average = sum(score_list)*1.0/len(name_list)\n",
    "        print(\"The average score is %f\"%average)\n",
    "        score_name_list = [(score_list[i],name_list[i]) for i in range(len(name_list))]\n",
    "        score_name_list.sort(reverse=True)\n",
    "        for i in range(len(name_list)):\n",
    "            print(score_name_list[i][1],score_name_list[i][0])\n",
    "        for i in range(len(name_list)):\n",
    "            if score_name_list[i][0] >= score_name_list[0][0]:\n",
    "                print(score_name_list[i][1],score_name_list[i][0])\n",
    "            elif score_name_list[i][0] <= score_name_list[len(name_list)-1][0]:\n",
    "                print(score_name_list[i][1],score_name_list[i][0])\n",
    "student_score_dict = {'pb':100,'ab':100,'cb':90,'dd':70,'ed':70}\n",
    "statistics_score(student_score_dict)"
   ]
  },
  {
   "cell_type": "code",
   "execution_count": 52,
   "metadata": {
    "tags": []
   },
   "outputs": [
    {
     "output_type": "stream",
     "name": "stdout",
     "text": "[2, 3, 5, 7, 11, 13, 17, 19, 23, 29, 31, 37, 41, 43, 47, 53, 59, 61, 67, 71, 73, 79, 83, 89, 97]\n"
    }
   ],
   "source": [
    "\"\"\"\n",
    "寻找素数\n",
    "\"\"\"\n",
    "import math\n",
    "def lookfor_prime(n):\n",
    "    if type(n) == int:\n",
    "        if n <= 1:\n",
    "            print(\"请输入大于1的整数\")\n",
    "            return False\n",
    "        else:\n",
    "            for i in range(2,int(math.sqrt(n)+1)):\n",
    "                if n % i == 0:\n",
    "                    return False\n",
    "            return True\n",
    "    else:\n",
    "        print(\"请输入整型\")\n",
    "        return False\n",
    "prime_list = [i for i in range(2,100) if lookfor_prime(i)]\n",
    "print(prime_list)"
   ]
  },
  {
   "cell_type": "code",
   "execution_count": 33,
   "metadata": {
    "tags": []
   },
   "outputs": [
    {
     "output_type": "stream",
     "name": "stdout",
     "text": "4\n"
    }
   ],
   "source": [
    "\"\"\"\n",
    "约瑟夫环\n",
    "del_num防止pop删出界\n",
    "\"\"\"\n",
    "def joseph_circulation(m,n):\n",
    "    if m>=2 and n>=2:\n",
    "        people_num = [i for i in range(m)]\n",
    "        num = 0\n",
    "        while len(people_num) > 1:\n",
    "            loop_num = len(people_num)\n",
    "            del_num = 0\n",
    "            for i in range(loop_num):\n",
    "                num += 1\n",
    "                if num == n:\n",
    "                    num = 0\n",
    "                    people_num.pop(i-del_num)\n",
    "                    del_num += 1\n",
    "        print(people_num[0]+1)\n",
    "    else:\n",
    "        print(\"请输入正确的参数\")\n",
    "joseph_circulation(5,3)"
   ]
  },
  {
   "cell_type": "code",
   "execution_count": 31,
   "metadata": {},
   "outputs": [
    {
     "output_type": "execute_result",
     "data": {
      "text/plain": "3"
     },
     "metadata": {},
     "execution_count": 31
    }
   ],
   "source": [
    "\"\"\"\n",
    "约瑟夫环\n",
    "\"\"\"\n",
    "def joseph_recursion(n,m):\n",
    "    if n == 1:\n",
    "        return 0\n",
    "    else:\n",
    "        return  (joseph_recursion(n-1,m)+m)%n\n",
    "joseph_recursion(5,3)\n"
   ]
  },
  {
   "cell_type": "code",
   "execution_count": null,
   "metadata": {},
   "outputs": [],
   "source": []
  }
 ],
 "metadata": {
  "language_info": {
   "codemirror_mode": {
    "name": "ipython",
    "version": 3
   },
   "file_extension": ".py",
   "mimetype": "text/x-python",
   "name": "python",
   "nbconvert_exporter": "python",
   "pygments_lexer": "ipython3",
   "version": "3.7.6-final"
  },
  "orig_nbformat": 2,
  "kernelspec": {
   "name": "python3",
   "display_name": "Python 3"
  }
 },
 "nbformat": 4,
 "nbformat_minor": 2
}