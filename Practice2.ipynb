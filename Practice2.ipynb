{
 "cells": [
  {
   "cell_type": "code",
   "execution_count": 1,
   "metadata": {
    "tags": []
   },
   "outputs": [
    {
     "output_type": "stream",
     "name": "stdout",
     "text": "a不能为0\n此一元二次方程无解\nroot1=-1.000000,root=-1.000000\nroot1=-0.381966,root=-2.618034\nroot1=-0.529858,root=-0.898713\nroot1=-1.000000,root=3.000000\n请输入正确的方程系数\n请输入正确的方程系数\n"
    }
   ],
   "source": [
    "\"\"\"\n",
    "求解一元二次方程\n",
    "\"\"\"\n",
    "import math\n",
    "def root_equation(a,b,c):\n",
    "    if isinstance(a,(int,float)) and isinstance(b,(int,float)) and isinstance(c,(int,float)):\n",
    "        if a ==0:\n",
    "            print(\"a不能为0\")\n",
    "        elif b*b - 4*a*c >= 0:\n",
    "            root1 = (-b + math.sqrt(b*b - 4*a*c))/(2.0*a)\n",
    "            root2 = (-b - math.sqrt(b*b - 4*a*c))/(2.0*a)\n",
    "            print(\"root1=%f,root=%f\"%(root1,root2))\n",
    "        else:\n",
    "            print(\"此一元二次方程无解\")\n",
    "    else:\n",
    "        print(\"请输入正确的方程系数\")\n",
    "\n",
    "root_equation(0,1,2)\n",
    "root_equation(3,1,2)\n",
    "root_equation(1,2,1)\n",
    "root_equation(1,3,1)\n",
    "root_equation(2.1,3,1)\n",
    "root_equation(-1,2,3)\n",
    "root_equation('s',3,1)\n",
    "root_equation(1,[2,3],1)"
   ]
  },
  {
   "cell_type": "code",
   "execution_count": 29,
   "metadata": {
    "tags": []
   },
   "outputs": [
    {
     "output_type": "stream",
     "name": "stdout",
     "text": "The average score is 86.000000\npb 100\nab 100\ncb 90\ned 70\ndd 70\npb 100\nab 100\ned 70\ndd 70\n"
    }
   ],
   "source": [
    "\"\"\"\n",
    "统计考试成绩参数类型为字典\n",
    "\"\"\"\n",
    "def statistics_score(score_dict):\n",
    "    if type(score_dict) == type({'name':'pb'}):\n",
    "        name_list = list(score_dict.keys())\n",
    "        score_list = list(score_dict.values())\n",
    "        average = sum(score_list)*1.0/len(name_list)\n",
    "        print(\"The average score is %f\"%average)\n",
    "        score_name_list = [(score_list[i],name_list[i]) for i in range(len(name_list))]\n",
    "        score_name_list.sort(reverse=True)\n",
    "        for i in range(len(name_list)):\n",
    "            print(score_name_list[i][1],score_name_list[i][0])\n",
    "        for i in range(len(name_list)):\n",
    "            if score_name_list[i][0] >= score_name_list[0][0]:\n",
    "                print(score_name_list[i][1],score_name_list[i][0])\n",
    "            elif score_name_list[i][0] <= score_name_list[len(name_list)-1][0]:\n",
    "                print(score_name_list[i][1],score_name_list[i][0])\n",
    "student_score_dict = {'pb':100,'ab':100,'cb':90,'dd':70,'ed':70}\n",
    "statistics_score(student_score_dict)"
   ]
  },
  {
   "cell_type": "code",
   "execution_count": 52,
   "metadata": {
    "tags": []
   },
   "outputs": [
    {
     "output_type": "stream",
     "name": "stdout",
     "text": "[2, 3, 5, 7, 11, 13, 17, 19, 23, 29, 31, 37, 41, 43, 47, 53, 59, 61, 67, 71, 73, 79, 83, 89, 97]\n"
    }
   ],
   "source": [
    "\"\"\"\n",
    "寻找素数\n",
    "\"\"\"\n",
    "import math\n",
    "def lookfor_prime(n):\n",
    "    if type(n) == int:\n",
    "        if n <= 1:\n",
    "            print(\"请输入大于1的整数\")\n",
    "            return False\n",
    "        else:\n",
    "            for i in range(2,int(math.sqrt(n)+1)):\n",
    "                if n % i == 0:\n",
    "                    return False\n",
    "            return True\n",
    "    else:\n",
    "        print(\"请输入整型\")\n",
    "        return False\n",
    "prime_list = [i for i in range(2,100) if lookfor_prime(i)]\n",
    "print(prime_list)"
   ]
  },
  {
   "cell_type": "code",
   "execution_count": 20,
   "metadata": {
    "tags": []
   },
   "outputs": [
    {
     "output_type": "stream",
     "name": "stdout",
     "text": "7\n"
    }
   ],
   "source": [
    "\"\"\"\n",
    "约瑟夫环\n",
    "del_num防止pop删出界\n",
    "\"\"\"\n",
    "def joseph_circulation(m,n):\n",
    "    if m>=2 and n>=2:\n",
    "        people_num = [i for i in range(m)]\n",
    "        num = 0\n",
    "        while len(people_num) > 1:\n",
    "            loop_num = len(people_num)\n",
    "            del_num = 0\n",
    "            for i in range(loop_num):\n",
    "                num += 1\n",
    "                if num == n:\n",
    "                    num = 0\n",
    "                    people_num.pop(i-del_num)\n",
    "                    del_num += 1\n",
    "        print(people_num[0]+1)\n",
    "    else:\n",
    "        print(\"请输入正确的参数\")\n",
    "joseph_circulation(11,3)"
   ]
  },
  {
   "cell_type": "code",
   "execution_count": 2,
   "metadata": {},
   "outputs": [
    {
     "output_type": "execute_result",
     "data": {
      "text/plain": "6"
     },
     "metadata": {},
     "execution_count": 2
    }
   ],
   "source": [
    "\"\"\"\n",
    "约瑟夫环\n",
    "\"\"\"\n",
    "def joseph_recursion(n,m):\n",
    "    if n == 1:\n",
    "        return 0\n",
    "    else:\n",
    "        return  (joseph_recursion(n-1,m)+m)%n\n",
    "joseph_recursion(11,3)\n"
   ]
  },
  {
   "cell_type": "code",
   "execution_count": 10,
   "metadata": {
    "tags": []
   },
   "outputs": [
    {
     "output_type": "stream",
     "name": "stdout",
     "text": "[4, 0, 3, 1, 6, 2, 5]\n"
    }
   ],
   "source": [
    "\"\"\"\n",
    "约瑟夫环\n",
    "obj_list:目标列表\n",
    "star:开始报数的位置(从0开始)\n",
    "step:步长\n",
    "\"\"\"\n",
    "def joseph_loop(obj_list,star,step):\n",
    "    out_list = []\n",
    "    length = len(obj_list)\n",
    "    for i in range(length-1):\n",
    "        index = (star+step-1)%length\n",
    "        star = index\n",
    "        length -= 1\n",
    "        out_list.append(obj_list[index])\n",
    "        obj_list.pop(index)\n",
    "    out_list.append(obj_list[0])\n",
    "    return out_list\n",
    "out_list = joseph_loop([x for x in range(7)],2,3)\n",
    "print(out_list)"
   ]
  },
  {
   "cell_type": "code",
   "execution_count": 13,
   "metadata": {
    "tags": []
   },
   "outputs": [
    {
     "output_type": "stream",
     "name": "stdout",
     "text": "pb\nzs\nls\nww\nzl\nzq\nlb\n-------------------------------------------\nls\nzq\nzs\nlb\nzl\npb\nww\n"
    }
   ],
   "source": [
    "import pickle\n",
    "class Student():\n",
    "    def __init__(self,name='ha'):\n",
    "        self.name = name\n",
    "    def set_age(self,age):\n",
    "        self.age = age\n",
    "    def set_num(self,num):\n",
    "        self.num = num\n",
    "student_pb = Student('pb')\n",
    "student_zs = Student('zs')\n",
    "student_ls = Student('ls')\n",
    "student_ww = Student('ww')\n",
    "student_zl = Student('zl')\n",
    "student_zq = Student('zq')\n",
    "student_lb = Student('lb')\n",
    "student_list = [student_pb,student_zs,student_ls,student_ww,student_zl,student_zq,student_lb]\n",
    "f = open(\"pickle.txt\",\"wb\")\n",
    "pickle.dump(student_list,f)\n",
    "f.close()\n",
    "load_dat = pickle.load(open(\"pickle.txt\",\"rb\"))\n",
    "for i in load_dat:\n",
    "    print(i.name)\n",
    "print(\"-------------------------------------------\")\n",
    "out_list = joseph_loop(student_list,0,3)\n",
    "for i in out_list:\n",
    "    print(i.name)"
   ]
  },
  {
   "cell_type": "code",
   "execution_count": 1,
   "metadata": {
    "tags": []
   },
   "outputs": [
    {
     "output_type": "stream",
     "name": "stdout",
     "text": "['num', 'name', 'sex', 'age']\n['1', 'pb', '1', '23']\n['2', 'le', '0', '20']\n['3', 'zs', '1', '22']\n['4', 'ls', '0', '24']\n['5', 'ww', '0', '26']\n['6', 'zl', '1', '22']\n-------------------------------\n['1', 'pb', '1', '23']\n['3', 'zs', '1', '22']\n['5', 'ww', '0', '26']\n['num', 'name', 'sex', 'age']\n['4', 'ls', '0', '24']\n['2', 'le', '0', '20']\n['6', 'zl', '1', '22']\n"
    }
   ],
   "source": [
    "import csv\n",
    "import copy\n",
    "import pickle\n",
    "MALE = 1\n",
    "FEMALE = 0\n",
    "class Student():\n",
    "    def __init__(self, name):\n",
    "        self.name = name\n",
    "\n",
    "    def set_age(self, age):\n",
    "        self.age = age\n",
    "\n",
    "    def set_num(self, num):\n",
    "        self.num = num\n",
    "\n",
    "class File_date():\n",
    "    def __init__(self, path):\n",
    "        self.path = path\n",
    "        self.date_list = []\n",
    "\n",
    "    def pick_input(self):\n",
    "        with open(self.path,\"rb\")as f:\n",
    "            self.date_list = pickle.load(f)\n",
    "\n",
    "    def pick_output(self):\n",
    "        with open(self.path,\"wb\")as f:\n",
    "            pickle.dump(self.date_list,f)\n",
    "\n",
    "    def csv_input(self):\n",
    "        with open(self.path,\"r\")as f:\n",
    "            f_csv = csv.reader(f)#csv.reader返回的是csv.reader格式，迭代此文件获得每一行元素写入date.list\n",
    "            for i in f_csv:\n",
    "                self.date_list.append(i)\n",
    "    \n",
    "    def csv_output(self):\n",
    "        with open(self.path,\"w\",newline='')as f:\n",
    "            f_csv = csv.writer(f)\n",
    "            f_csv.writerows(self.date_list)\n",
    "\n",
    "class Joseph():\n",
    "    def __init__(self, star, step):\n",
    "        self.__date = []\n",
    "        self.__out_list = []\n",
    "        self.star = star\n",
    "        self.step = step\n",
    "        self.__index = 0\n",
    "    def __iter__(self):\n",
    "        return self\n",
    "    def __next__(self):\n",
    "        if self.__index < self.length():\n",
    "            i = self.__index\n",
    "            self.__index += 1\n",
    "            return self.__date[self.__out_list[i]]\n",
    "        else:\n",
    "            raise StopIteration()\n",
    "    def joseph_loop(self):\n",
    "        self.__out_list = []#循环之前先清空列表，防止上次循环给列表赋值。\n",
    "        length = self.length()\n",
    "        map_list = [x for x in range(length)]\n",
    "        star = self.star\n",
    "        step = self.step\n",
    "        for i in range(length-1):\n",
    "            index = (star + step-1)%length\n",
    "            star = index\n",
    "            length -= 1\n",
    "            self.__out_list.append(map_list[index])\n",
    "            map_list.pop(index)\n",
    "        self.__out_list.append(map_list[0])\n",
    "    def append(self, date):\n",
    "        self.__date.append(date)\n",
    "        self.joseph_loop()\n",
    "    def pop(self):\n",
    "        return self.__date.pop()\n",
    "        self.joseph_loop()\n",
    "    def remove(self, pos):\n",
    "        return self.__date.pop(pos)\n",
    "        self.joseph_loop()\n",
    "    def length(self):\n",
    "        return len(self.__date)\n",
    "    def get_date(self):\n",
    "        return copy.deepcopy(self.__date)#若返回self.__date,那么a=get_dateget_date()，通过改变a就可改变self.__date\n",
    "\"\"\"\n",
    "student_pb = Student(\"pb\")\n",
    "student_z1 = Student(\"z1\")\n",
    "student_z2 = Student(\"z2\")\n",
    "student_z3 = Student(\"z3\")\n",
    "student_z4 = Student(\"z4\")\n",
    "student_z5 = Student(\"z5\")\n",
    "student_z6 = Student(\"z6\")\n",
    "file_student = File_date(\"pickle.txt\")\n",
    "file_student.date_list = [student_pb,student_z1,student_z2,student_z3,student_z4,student_z5,student_z6]\n",
    "file_student.pick_output()\n",
    "file_student.pick_input()\n",
    "for i in file_student.date_list:\n",
    "    print(i.name)\n",
    "student_joseph = Joseph(2,3)\n",
    "for i in range(len(file_student.date_list)):\n",
    "    student_joseph.append(file_student.date_list[i])\n",
    "print(\"---------------------------------\")\n",
    "for i in student_joseph:\n",
    "    print(i.name)\n",
    "\"\"\"\n",
    "file_student_csv = File_date(\"student.csv\")\n",
    "file_student_csv.date_list = [[\"num\",\"name\",\"sex\" ,\"age\"], \n",
    "                              [1    ,\"pb\"  ,MALE  ,23   ],                       \n",
    "                              [2    ,\"le\"  ,FEMALE,20   ],\n",
    "                              [3    ,\"zs\"  ,MALE  ,22   ],\n",
    "                              [4    ,\"ls\"  ,FEMALE,24   ],\n",
    "                              [5    ,\"ww\"  ,FEMALE,26   ],\n",
    "                              [6    ,\"zl\"  ,MALE  ,22   ],]\n",
    "file_student_csv.csv_output()\n",
    "file_student_csv.date_list = []\n",
    "file_student_csv.csv_input()\n",
    "for i in file_student_csv.date_list:\n",
    "    print(i)\n",
    "student_joseph = Joseph(7,2)\n",
    "for i in file_student_csv.date_list:\n",
    "    student_joseph.append(i)\n",
    "print(\"-------------------------------\")\n",
    "for i in student_joseph:\n",
    "    print(i)"
   ]
  },
  {
   "cell_type": "code",
   "execution_count": null,
   "metadata": {},
   "outputs": [],
   "source": []
  }
 ],
 "metadata": {
  "language_info": {
   "codemirror_mode": {
    "name": "ipython",
    "version": 3
   },
   "file_extension": ".py",
   "mimetype": "text/x-python",
   "name": "python",
   "nbconvert_exporter": "python",
   "pygments_lexer": "ipython3",
   "version": "3.7.6-final"
  },
  "orig_nbformat": 2,
  "kernelspec": {
   "name": "python3",
   "display_name": "Python 3"
  }
 },
 "nbformat": 4,
 "nbformat_minor": 2
}