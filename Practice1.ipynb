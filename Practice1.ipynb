{
 "cells": [
  {
   "cell_type": "code",
   "execution_count": 6,
   "metadata": {
    "tags": []
   },
   "outputs": [
    {
     "output_type": "stream",
     "name": "stdout",
     "text": "[0, 1, 2, 3, 4, 5, 6, 7, 8, 9]\n[1, 2, 3, 4, 5, 6, 7, 8, 9, 0]\n"
    }
   ],
   "source": [
    "\"\"\"\n",
    "生成一个10元素的列表,并将列表的每一个元素依次向前移动一个位置，第一个元素在列表最后\n",
    "\"\"\"\n",
    "LIST_NUM = 10\n",
    "create_list = [x for x in range(LIST_NUM)]\n",
    "print(create_list)\n",
    "create_list.append(create_list[0])\n",
    "create_list.pop(0)\n",
    "print(create_list)"
   ]
  },
  {
   "cell_type": "code",
   "execution_count": 18,
   "metadata": {
    "tags": []
   },
   "outputs": [
    {
     "output_type": "stream",
     "name": "stdout",
     "text": "[14, 67, 57, 11, 3, 41, 24, 62, 57, 8, 69, 96, 89, 78, 25, 58, 42, 96, 77, 50, 90, 17, 13, 2, 30, 55, 40, 22, 76, 71, 92, 17, 11, 15, 89, 70, 8, 86, 3, 38]\n1869 46.725\n[14, 11, 3, 41, 24, 8, 25, 42, 17, 13, 2, 30, 40, 22, 17, 11, 15, 8, 3, 38]\n[96, 96, 92, 90, 89, 89, 86, 78, 77, 76, 71, 70, 69, 67, 62, 58, 57, 57, 55, 50, 42, 41, 40, 38, 30, 25, 24, 22, 17, 17, 15, 14, 13, 11, 11, 8, 8, 3, 3, 2]\n"
    }
   ],
   "source": [
    "\"\"\"\n",
    "生成一个40元素的列表，元素为0-100的的随机整数；\n",
    "列表代表班级40人的成绩，求出低于平均分的学生人数；\n",
    "对列表元素从大到小进行排列；\n",
    "\"\"\"\n",
    "import random\n",
    "STUDENT_NUM = 40\n",
    "SCORE_MAX = 100\n",
    "SCORE_MIN = 0\n",
    "decline = True\n",
    "ascend = False\n",
    "student_score = [random.randint(SCORE_MIN,SCORE_MAX) for i in range(STUDENT_NUM)]\n",
    "print(student_score)\n",
    "total_score = sum(student_score)\n",
    "average_score = total_score*1.0/STUDENT_NUM\n",
    "print(total_score,average_score)\n",
    "under_average_score = [x for x in student_score if x < average_score]\n",
    "print(under_average_score)\n",
    "student_score.sort(reverse=decline)\n",
    "print(student_score)"
   ]
  },
  {
   "cell_type": "code",
   "execution_count": 33,
   "metadata": {
    "tags": []
   },
   "outputs": [
    {
     "output_type": "stream",
     "name": "stdout",
     "text": "haha     xixi gege     mama ga     xi        \n[5, 6, 7, 8, 19, 20, 21, 22, 31, 32, 33, 34, 38, 39, 40, 41, 42, 43, 44]\nhaha xixi gege mama ga xi \n"
    }
   ],
   "source": [
    "\"\"\"\n",
    "把英文字符串中存在且大于2个空格的地方变为一个空格\n",
    "\"\"\"\n",
    "create_str = input(\"清输入一段字符串\")\n",
    "print(create_str)\n",
    "delete_num = []\n",
    "for i in range(len(create_str)-1):\n",
    "    if create_str[i] == \" \":\n",
    "        if create_str[i+1] == \" \":\n",
    "            delete_num.append(i+1)\n",
    "print(delete_num)\n",
    "temp_list = [create_str[x] for x in range(len(create_str)) if x not in delete_num]\n",
    "create_str = \"\".join(temp_list)\n",
    "print(create_str)\n",
    "\n"
   ]
  },
  {
   "cell_type": "code",
   "execution_count": 52,
   "metadata": {
    "tags": []
   },
   "outputs": [
    {
     "output_type": "stream",
     "name": "stdout",
     "text": "Fibonacci数列的第7项为：13\n"
    }
   ],
   "source": [
    "\"\"\"\n",
    "Fibonacci数列\n",
    "\"\"\"\n",
    "Fibonacci_list = [0,1]\n",
    "hope_num = input(\"你想查看Fibonacci数列的第几项(从0项开始的正整数)\")\n",
    "if not hope_num.isdigit():\n",
    "    print(\"请输入整型\")\n",
    "elif int(hope_num) < 0:\n",
    "    print(\"请输入大于0的整数\")\n",
    "else:\n",
    "    if int(hope_num) <= 1:\n",
    "        print(\"Fibonacci数列的第%s项为：%d\"%(hope_num,Fibonacci_list[int(hope_num)]))\n",
    "    if int(hope_num) > 1:\n",
    "        for i in range(2,int(hope_num)+1):\n",
    "            Fibonacci_list.append(Fibonacci_list[i-1] + Fibonacci_list[i-2])\n",
    "        print(\"Fibonacci数列的第%s项为：%d\"%(hope_num,Fibonacci_list[int(hope_num)]))"
   ]
  },
  {
   "cell_type": "code",
   "execution_count": null,
   "metadata": {},
   "outputs": [],
   "source": []
  }
 ],
 "metadata": {
  "language_info": {
   "codemirror_mode": {
    "name": "ipython",
    "version": 3
   },
   "file_extension": ".py",
   "mimetype": "text/x-python",
   "name": "python",
   "nbconvert_exporter": "python",
   "pygments_lexer": "ipython3",
   "version": "3.7.6-final"
  },
  "orig_nbformat": 2,
  "kernelspec": {
   "name": "python3",
   "display_name": "Python 3"
  }
 },
 "nbformat": 4,
 "nbformat_minor": 2
}